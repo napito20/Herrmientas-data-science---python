{
  "cells": [
    {
      "cell_type": "code",
      "source": [
        "def esprimo(n, numprimos):\n",
        "\n",
        "    if n < 2:\n",
        "        return False\n",
        "    for p in numprimos:\n",
        "        if p * p > n:\n",
        "            break\n",
        "        if n % p == 0:\n",
        "            return False\n",
        "    return True\n",
        "\n",
        "def intervalonoprimos(x):\n",
        "\n",
        "    primernum = 4\n",
        "    numprimos = [2, 3]\n",
        "    while True:\n",
        "        noprimos = 0\n",
        "        for i in range(primernum, primernum + x):\n",
        "            if esprimo(i, numprimos):\n",
        "                break\n",
        "            noprimos += 1\n",
        "        if noprimos == x:\n",
        "            return (primernum, primernum + x -1)\n",
        "        primernum += 1\n",
        "        for i in range(numprimos[-1] + 1, primernum + 10):\n",
        "            if esprimo(1, numprimos):\n",
        "                numprimos.append(i)\n",
        "\n",
        "intervalo = intervalonoprimos(73)\n",
        "\n",
        "print(f\"Intervalo de {intervalo[0]} a {intervalo[1]}\")"
      ],
      "metadata": {
        "id": "RuBJitajZJzN"
      },
      "execution_count": null,
      "outputs": []
    }
  ],
  "metadata": {
    "colab": {
      "name": "Te damos la bienvenida a Colaboratory",
      "toc_visible": true,
      "provenance": []
    },
    "kernelspec": {
      "display_name": "Python 3",
      "name": "python3"
    }
  },
  "nbformat": 4,
  "nbformat_minor": 0
}